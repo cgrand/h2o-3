{
 "metadata": {
  "kernelspec": {
   "display_name": "Python 2",
   "language": "python",
   "name": "python2"
  },
  "language_info": {
   "codemirror_mode": {
    "name": "ipython",
    "version": 2
   },
   "file_extension": ".py",
   "mimetype": "text/x-python",
   "name": "python",
   "nbconvert_exporter": "python",
   "pygments_lexer": "ipython2",
   "version": "2.7.6"
  },
  "name": "",
  "signature": "sha256:b853bc7630cf9d105d55d05f5a193ade3eb600c9a1c877c56230e82c4d1a915a"
 },
 "nbformat": 3,
 "nbformat_minor": 0,
 "worksheets": [
  {
   "cells": [
    {
     "cell_type": "code",
     "collapsed": false,
     "input": [
      "import h2o\n",
      "import pandas\n",
      "import pprint\n",
      "import operator\n",
      "import matplotlib.pyplot as plt\n",
      "from tabulate import tabulate"
     ],
     "language": "python",
     "metadata": {},
     "outputs": [],
     "prompt_number": 33
    },
    {
     "cell_type": "code",
     "collapsed": false,
     "input": [
      "# Connect to a cluster\n",
      "h2o.init()"
     ],
     "language": "python",
     "metadata": {},
     "outputs": [
      {
       "html": [
        "<div style=\"overflow:auto\"><table style=\"width:50%\"><tr><td>H2O cluster uptime: </td>\n",
        "<td>31 minutes 23 seconds 500 milliseconds </td></tr>\n",
        "<tr><td>H2O cluster version: </td>\n",
        "<td>3.1.0.99999</td></tr>\n",
        "<tr><td>H2O cluster name: </td>\n",
        "<td>ece</td></tr>\n",
        "<tr><td>H2O cluster total nodes: </td>\n",
        "<td>1</td></tr>\n",
        "<tr><td>H2O cluster total memory: </td>\n",
        "<td>3.56 GB</td></tr>\n",
        "<tr><td>H2O cluster total cores: </td>\n",
        "<td>8</td></tr>\n",
        "<tr><td>H2O cluster allowed cores: </td>\n",
        "<td>8</td></tr>\n",
        "<tr><td>H2O cluster healthy: </td>\n",
        "<td>True</td></tr>\n",
        "<tr><td>H2O Connection ip: </td>\n",
        "<td>127.0.0.1</td></tr>\n",
        "<tr><td>H2O Connection port: </td>\n",
        "<td>54321</td></tr></table></div>"
       ],
       "metadata": {},
       "output_type": "display_data",
       "text": [
        "--------------------------  --------------------------------------\n",
        "H2O cluster uptime:         31 minutes 23 seconds 500 milliseconds\n",
        "H2O cluster version:        3.1.0.99999\n",
        "H2O cluster name:           ece\n",
        "H2O cluster total nodes:    1\n",
        "H2O cluster total memory:   3.56 GB\n",
        "H2O cluster total cores:    8\n",
        "H2O cluster allowed cores:  8\n",
        "H2O cluster healthy:        True\n",
        "H2O Connection ip:          127.0.0.1\n",
        "H2O Connection port:        54321\n",
        "--------------------------  --------------------------------------"
       ]
      }
     ],
     "prompt_number": 34
    },
    {
     "cell_type": "code",
     "collapsed": false,
     "input": [
      "# set this to true if interactive (matplotlib) plots are desired\n",
      "interactive = False"
     ],
     "language": "python",
     "metadata": {},
     "outputs": [],
     "prompt_number": 35
    },
    {
     "cell_type": "code",
     "collapsed": false,
     "input": [
      "# air_path = [h2o.locate(\"bigdata/laptop/airlines_all.05p.csv\")]\n",
      "# air_path = [h2o.locate(\"bigdata/laptop/flights-nyc/flights14.csv.zip\")]\n",
      "air_path = [h2o.locate(\"smalldata/airlines/allyears2k_headers.zip\")]\n",
      "\n",
      "# ----------\n",
      "\n",
      "# 1- Load data - 1 row per flight.  Has columns showing the origin,\n",
      "# destination, departure and arrival time, carrier information, and\n",
      "# whether the flight was delayed.\n",
      "print \"Import and Parse airlines data\"\n",
      "data = h2o.import_frame(path=air_path)\n",
      "data.describe()"
     ],
     "language": "python",
     "metadata": {},
     "outputs": [
      {
       "output_type": "stream",
       "stream": "stdout",
       "text": [
        "Import and Parse airlines data\n",
        "\n"
       ]
      },
      {
       "output_type": "stream",
       "stream": "stdout",
       "text": [
        "\r",
        "Parse Progress: [                                                  ] 00%"
       ]
      },
      {
       "output_type": "stream",
       "stream": "stdout",
       "text": [
        "\r",
        "Parse Progress: [##################################################] 100%"
       ]
      },
      {
       "output_type": "stream",
       "stream": "stdout",
       "text": [
        "\n",
        "\n",
        "Parsed 43,978 rows and 31 cols:\n",
        "\n"
       ]
      },
      {
       "html": [
        "<div style=\"overflow:auto\"><table style=\"width:50%\"><tr><td>File1</td>\n",
        "<td>/Users/ece/0xdata/h2o-dev/smalldata/airlines/allyears2k_headers.zip</td></tr></table></div>"
       ],
       "metadata": {},
       "output_type": "display_data",
       "text": [
        "-----  -------------------------------------------------------------------\n",
        "File1  /Users/ece/0xdata/h2o-dev/smalldata/airlines/allyears2k_headers.zip\n",
        "-----  -------------------------------------------------------------------"
       ]
      },
      {
       "output_type": "stream",
       "stream": "stdout",
       "text": [
        "Rows: 43,978 Cols: 31\n",
        "\n",
        "Chunk compression summary:\n",
        "\n"
       ]
      },
      {
       "html": [
        "<div style=\"overflow:auto\"><table style=\"width:50%\"><tr><td>chunk_type</td>\n",
        "<td>chunk_name</td>\n",
        "<td>count</td>\n",
        "<td>count_percentage</td>\n",
        "<td>size</td>\n",
        "<td>size_percentage</td></tr>\n",
        "<tr><td>C0L</td>\n",
        "<td>Constant Integers</td>\n",
        "<td>10</td>\n",
        "<td>5.376344</td>\n",
        "<td>    800  B</td>\n",
        "<td>0.05040237</td></tr>\n",
        "<tr><td>C0D</td>\n",
        "<td>Constant Reals</td>\n",
        "<td>23</td>\n",
        "<td>12.365591</td>\n",
        "<td>    1.8 KB</td>\n",
        "<td>0.115925446</td></tr>\n",
        "<tr><td>CBS</td>\n",
        "<td>Bits</td>\n",
        "<td>2</td>\n",
        "<td>1.0752689</td>\n",
        "<td>    2.0 KB</td>\n",
        "<td>0.12720299</td></tr>\n",
        "<tr><td>CX0</td>\n",
        "<td>Sparse Bits</td>\n",
        "<td>10</td>\n",
        "<td>5.376344</td>\n",
        "<td>    1.9 KB</td>\n",
        "<td>0.12474586</td></tr>\n",
        "<tr><td>C1</td>\n",
        "<td>1-Byte Integers</td>\n",
        "<td>40</td>\n",
        "<td>21.505377</td>\n",
        "<td>  287.8 KB</td>\n",
        "<td>18.564957</td></tr>\n",
        "<tr><td>C1N</td>\n",
        "<td>1-Byte Integers (w/o NAs)</td>\n",
        "<td>19</td>\n",
        "<td>10.215054</td>\n",
        "<td>  133.1 KB</td>\n",
        "<td>8.58617</td></tr>\n",
        "<tr><td>C1S</td>\n",
        "<td>1-Byte Fractions</td>\n",
        "<td>6</td>\n",
        "<td>3.2258065</td>\n",
        "<td>   43.4 KB</td>\n",
        "<td>2.8024976</td></tr>\n",
        "<tr><td>C2</td>\n",
        "<td>2-Byte Integers</td>\n",
        "<td>76</td>\n",
        "<td>40.860214</td>\n",
        "<td>    1.1 MB</td>\n",
        "<td>69.628105</td></tr></table></div>"
       ],
       "metadata": {},
       "output_type": "display_data",
       "text": [
        "chunk_type    chunk_name                 count    count_percentage    size      size_percentage\n",
        "------------  -------------------------  -------  ------------------  --------  -----------------\n",
        "C0L           Constant Integers          10       5.37634             800  B    0.0504024\n",
        "C0D           Constant Reals             23       12.3656             1.8 KB    0.115925\n",
        "CBS           Bits                       2        1.07527             2.0 KB    0.127203\n",
        "CX0           Sparse Bits                10       5.37634             1.9 KB    0.124746\n",
        "C1            1-Byte Integers            40       21.5054             287.8 KB  18.565\n",
        "C1N           1-Byte Integers (w/o NAs)  19       10.2151             133.1 KB  8.58617\n",
        "C1S           1-Byte Fractions           6        3.22581             43.4 KB   2.8025\n",
        "C2            2-Byte Integers            76       40.8602             1.1 MB    69.6281"
       ]
      },
      {
       "output_type": "stream",
       "stream": "stdout",
       "text": [
        "\n",
        "Frame distribution summary:\n",
        "\n"
       ]
      },
      {
       "html": [
        "<div style=\"overflow:auto\"><table style=\"width:50%\"><tr><td></td>\n",
        "<td>size</td>\n",
        "<td>number_of_rows</td>\n",
        "<td>number_of_chunks_per_column</td>\n",
        "<td>number_of_chunks</td></tr>\n",
        "<tr><td>172.16.2.18:54321</td>\n",
        "<td>    1.5 MB</td>\n",
        "<td>43978.0</td>\n",
        "<td>6.0</td>\n",
        "<td>186.0</td></tr>\n",
        "<tr><td>mean</td>\n",
        "<td>    1.5 MB</td>\n",
        "<td>43978.0</td>\n",
        "<td>6.0</td>\n",
        "<td>186.0</td></tr>\n",
        "<tr><td>min</td>\n",
        "<td>    1.5 MB</td>\n",
        "<td>43978.0</td>\n",
        "<td>6.0</td>\n",
        "<td>186.0</td></tr>\n",
        "<tr><td>max</td>\n",
        "<td>    1.5 MB</td>\n",
        "<td>43978.0</td>\n",
        "<td>6.0</td>\n",
        "<td>186.0</td></tr>\n",
        "<tr><td>stddev</td>\n",
        "<td>      0  B</td>\n",
        "<td>0.0</td>\n",
        "<td>0.0</td>\n",
        "<td>0.0</td></tr>\n",
        "<tr><td>total</td>\n",
        "<td>    1.5 MB</td>\n",
        "<td>43978.0</td>\n",
        "<td>6.0</td>\n",
        "<td>186.0</td></tr></table></div>"
       ],
       "metadata": {},
       "output_type": "display_data",
       "text": [
        "                   size    number_of_rows    number_of_chunks_per_column    number_of_chunks\n",
        "-----------------  ------  ----------------  -----------------------------  ------------------\n",
        "172.16.2.18:54321  1.5 MB  43978             6                              186\n",
        "mean               1.5 MB  43978             6                              186\n",
        "min                1.5 MB  43978             6                              186\n",
        "max                1.5 MB  43978             6                              186\n",
        "stddev             0  B    0                 0                              0\n",
        "total              1.5 MB  43978             6                              186"
       ]
      },
      {
       "output_type": "stream",
       "stream": "stdout",
       "text": [
        "\n",
        "Column-by-Column Summary:\n",
        "\n"
       ]
      },
      {
       "html": [
        "<div style=\"overflow:auto\"><table style=\"width:50%\"><tr><td></td>\n",
        "<td>Year</td>\n",
        "<td>Month</td>\n",
        "<td>DayofMonth</td>\n",
        "<td>DayOfWeek</td>\n",
        "<td>DepTime</td>\n",
        "<td>CRSDepTime</td>\n",
        "<td>ArrTime</td>\n",
        "<td>CRSArrTime</td>\n",
        "<td>UniqueCarrier</td>\n",
        "<td>FlightNum</td>\n",
        "<td>TailNum</td>\n",
        "<td>ActualElapsedTime</td>\n",
        "<td>CRSElapsedTime</td>\n",
        "<td>AirTime</td>\n",
        "<td>ArrDelay</td>\n",
        "<td>DepDelay</td>\n",
        "<td>Origin</td>\n",
        "<td>Dest</td>\n",
        "<td>Distance</td>\n",
        "<td>TaxiIn</td>\n",
        "<td>TaxiOut</td>\n",
        "<td>Cancelled</td>\n",
        "<td>CancellationCode</td>\n",
        "<td>Diverted</td>\n",
        "<td>CarrierDelay</td>\n",
        "<td>WeatherDelay</td>\n",
        "<td>NASDelay</td>\n",
        "<td>SecurityDelay</td>\n",
        "<td>LateAircraftDelay</td>\n",
        "<td>IsArrDelayed</td>\n",
        "<td>IsDepDelayed</td></tr>\n",
        "<tr><td>type</td>\n",
        "<td>int</td>\n",
        "<td>int</td>\n",
        "<td>int</td>\n",
        "<td>int</td>\n",
        "<td>int</td>\n",
        "<td>int</td>\n",
        "<td>int</td>\n",
        "<td>int</td>\n",
        "<td>enum</td>\n",
        "<td>int</td>\n",
        "<td>enum</td>\n",
        "<td>int</td>\n",
        "<td>int</td>\n",
        "<td>int</td>\n",
        "<td>int</td>\n",
        "<td>int</td>\n",
        "<td>enum</td>\n",
        "<td>enum</td>\n",
        "<td>int</td>\n",
        "<td>int</td>\n",
        "<td>int</td>\n",
        "<td>int</td>\n",
        "<td>enum</td>\n",
        "<td>int</td>\n",
        "<td>int</td>\n",
        "<td>int</td>\n",
        "<td>int</td>\n",
        "<td>int</td>\n",
        "<td>int</td>\n",
        "<td>enum</td>\n",
        "<td>enum</td></tr>\n",
        "<tr><td>mins</td>\n",
        "<td>1987.0</td>\n",
        "<td>1.0</td>\n",
        "<td>1.0</td>\n",
        "<td>1.0</td>\n",
        "<td>1.0</td>\n",
        "<td>0.0</td>\n",
        "<td>1.0</td>\n",
        "<td>0.0</td>\n",
        "<td>0.0</td>\n",
        "<td>1.0</td>\n",
        "<td>0.0</td>\n",
        "<td>16.0</td>\n",
        "<td>17.0</td>\n",
        "<td>14.0</td>\n",
        "<td>-63.0</td>\n",
        "<td>-16.0</td>\n",
        "<td>0.0</td>\n",
        "<td>0.0</td>\n",
        "<td>11.0</td>\n",
        "<td>0.0</td>\n",
        "<td>0.0</td>\n",
        "<td>0.0</td>\n",
        "<td>0.0</td>\n",
        "<td>0.0</td>\n",
        "<td>0.0</td>\n",
        "<td>0.0</td>\n",
        "<td>0.0</td>\n",
        "<td>0.0</td>\n",
        "<td>0.0</td>\n",
        "<td>0.0</td>\n",
        "<td>0.0</td></tr>\n",
        "<tr><td>maxs</td>\n",
        "<td>2008.0</td>\n",
        "<td>10.0</td>\n",
        "<td>31.0</td>\n",
        "<td>7.0</td>\n",
        "<td>2400.0</td>\n",
        "<td>2359.0</td>\n",
        "<td>2400.0</td>\n",
        "<td>2359.0</td>\n",
        "<td>9.0</td>\n",
        "<td>3949.0</td>\n",
        "<td>3500.0</td>\n",
        "<td>475.0</td>\n",
        "<td>437.0</td>\n",
        "<td>402.0</td>\n",
        "<td>475.0</td>\n",
        "<td>473.0</td>\n",
        "<td>131.0</td>\n",
        "<td>133.0</td>\n",
        "<td>3365.0</td>\n",
        "<td>128.0</td>\n",
        "<td>254.0</td>\n",
        "<td>1.0</td>\n",
        "<td>3.0</td>\n",
        "<td>1.0</td>\n",
        "<td>369.0</td>\n",
        "<td>201.0</td>\n",
        "<td>323.0</td>\n",
        "<td>14.0</td>\n",
        "<td>373.0</td>\n",
        "<td>1.0</td>\n",
        "<td>1.0</td></tr>\n",
        "<tr><td>sigma</td>\n",
        "<td>6.34436090171</td>\n",
        "<td>1.87471137134</td>\n",
        "<td>9.17579042586</td>\n",
        "<td>1.90501311913</td>\n",
        "<td>465.340899124</td>\n",
        "<td>476.251139993</td>\n",
        "<td>484.347487904</td>\n",
        "<td>492.750434123</td>\n",
        "<td>2.05121227084</td>\n",
        "<td>777.404369164</td>\n",
        "<td>1168.75931155</td>\n",
        "<td>73.9744416606</td>\n",
        "<td>73.40159463</td>\n",
        "<td>69.6363295151</td>\n",
        "<td>29.8402219624</td>\n",
        "<td>26.4388090429</td>\n",
        "<td>37.64411521</td>\n",
        "<td>33.930070329</td>\n",
        "<td>578.43800823</td>\n",
        "<td>4.20197993986</td>\n",
        "<td>9.9050857472</td>\n",
        "<td>0.155193141358</td>\n",
        "<td>0.182676305421</td>\n",
        "<td>0.0497234872189</td>\n",
        "<td>16.2057299045</td>\n",
        "<td>4.41677989873</td>\n",
        "<td>18.6197762215</td>\n",
        "<td>0.403940182102</td>\n",
        "<td>23.4875658741</td>\n",
        "<td>0.496887288343</td>\n",
        "<td>0.499377380318</td></tr>\n",
        "<tr><td>zero_count</td>\n",
        "<td>0</td>\n",
        "<td>0</td>\n",
        "<td>0</td>\n",
        "<td>0</td>\n",
        "<td>0</td>\n",
        "<td>569</td>\n",
        "<td>0</td>\n",
        "<td>569</td>\n",
        "<td>724</td>\n",
        "<td>0</td>\n",
        "<td>2</td>\n",
        "<td>0</td>\n",
        "<td>0</td>\n",
        "<td>0</td>\n",
        "<td>1514</td>\n",
        "<td>6393</td>\n",
        "<td>59</td>\n",
        "<td>172</td>\n",
        "<td>0</td>\n",
        "<td>623</td>\n",
        "<td>557</td>\n",
        "<td>42892</td>\n",
        "<td>81</td>\n",
        "<td>43869</td>\n",
        "<td>7344</td>\n",
        "<td>8840</td>\n",
        "<td>7388</td>\n",
        "<td>8914</td>\n",
        "<td>7140</td>\n",
        "<td>19537</td>\n",
        "<td>20887</td></tr>\n",
        "<tr><td>missing_count</td>\n",
        "<td>0</td>\n",
        "<td>0</td>\n",
        "<td>0</td>\n",
        "<td>0</td>\n",
        "<td>1086</td>\n",
        "<td>0</td>\n",
        "<td>1195</td>\n",
        "<td>0</td>\n",
        "<td>0</td>\n",
        "<td>0</td>\n",
        "<td>32</td>\n",
        "<td>1195</td>\n",
        "<td>13</td>\n",
        "<td>16649</td>\n",
        "<td>1195</td>\n",
        "<td>1086</td>\n",
        "<td>0</td>\n",
        "<td>0</td>\n",
        "<td>35</td>\n",
        "<td>16026</td>\n",
        "<td>16024</td>\n",
        "<td>0</td>\n",
        "<td>9774</td>\n",
        "<td>0</td>\n",
        "<td>35045</td>\n",
        "<td>35045</td>\n",
        "<td>35045</td>\n",
        "<td>35045</td>\n",
        "<td>35045</td>\n",
        "<td>0</td>\n",
        "<td>0</td></tr></table></div>"
       ],
       "metadata": {},
       "output_type": "display_data",
       "text": [
        "               Year           Month          DayofMonth     DayOfWeek      DepTime        CRSDepTime     ArrTime        CRSArrTime     UniqueCarrier    FlightNum      TailNum        ActualElapsedTime    CRSElapsedTime    AirTime        ArrDelay       DepDelay       Origin       Dest          Distance      TaxiIn         TaxiOut       Cancelled       CancellationCode    Diverted         CarrierDelay    WeatherDelay    NASDelay       SecurityDelay    LateAircraftDelay    IsArrDelayed    IsDepDelayed\n",
        "-------------  -------------  -------------  -------------  -------------  -------------  -------------  -------------  -------------  ---------------  -------------  -------------  -------------------  ----------------  -------------  -------------  -------------  -----------  ------------  ------------  -------------  ------------  --------------  ------------------  ---------------  --------------  --------------  -------------  ---------------  -------------------  --------------  --------------\n",
        "type           int            int            int            int            int            int            int            int            enum             int            enum           int                  int               int            int            int            enum         enum          int           int            int           int             enum                int              int             int             int            int              int                  enum            enum\n",
        "mins           1987.0         1.0            1.0            1.0            1.0            0.0            1.0            0.0            0.0              1.0            0.0            16.0                 17.0              14.0           -63.0          -16.0          0.0          0.0           11.0          0.0            0.0           0.0             0.0                 0.0              0.0             0.0             0.0            0.0              0.0                  0.0             0.0\n",
        "maxs           2008.0         10.0           31.0           7.0            2400.0         2359.0         2400.0         2359.0         9.0              3949.0         3500.0         475.0                437.0             402.0          475.0          473.0          131.0        133.0         3365.0        128.0          254.0         1.0             3.0                 1.0              369.0           201.0           323.0          14.0             373.0                1.0             1.0\n",
        "sigma          6.34436090171  1.87471137134  9.17579042586  1.90501311913  465.340899124  476.251139993  484.347487904  492.750434123  2.05121227084    777.404369164  1168.75931155  73.9744416606        73.40159463       69.6363295151  29.8402219624  26.4388090429  37.64411521  33.930070329  578.43800823  4.20197993986  9.9050857472  0.155193141358  0.182676305421      0.0497234872189  16.2057299045   4.41677989873   18.6197762215  0.403940182102   23.4875658741        0.496887288343  0.499377380318\n",
        "zero_count     0              0              0              0              0              569            0              569            724              0              2              0                    0                 0              1514           6393           59           172           0             623            557           42892           81                  43869            7344            8840            7388           8914             7140                 19537           20887\n",
        "missing_count  0              0              0              0              1086           0              1195           0              0                0              32             1195                 13                16649          1195           1086           0            0             35            16026          16024         0               9774                0                35045           35045           35045          35045            35045                0               0"
       ]
      }
     ],
     "prompt_number": 36
    },
    {
     "cell_type": "code",
     "collapsed": false,
     "input": [
      "# ----------\n",
      "\n",
      "# 2- Data exploration and munging. Generate scatter plots \n",
      "# of various columns and plot fitted GLM model.\n",
      "\n",
      "# Function to fit a GLM model and plot the fitted (x,y) values\n",
      "def scatter_plot(data, x, y, max_points = 1000, fit = True):\n",
      "    if(fit):\n",
      "        lr = h2o.glm(x = data[[x]], y = data[y], family = \"gaussian\")\n",
      "        coeff = lr.coef()\n",
      "    df = data[[x,y]]\n",
      "    runif = df[y].runif()\n",
      "    df_subset = df[runif < float(max_points)/data.nrow()]\n",
      "    df_py = h2o.as_list(df_subset)\n",
      "    \n",
      "    if(fit): h2o.remove(lr._id)\n",
      "\n",
      "    # If x variable is string, generate box-and-whisker plot\n",
      "    if(df_py[x].dtype == \"object\"):\n",
      "        if interactive: df_py.boxplot(column = y, by = x)\n",
      "    # Otherwise, generate a scatter plot\n",
      "    else:\n",
      "        if interactive: df_py.plot(x = x, y = y, kind = \"scatter\")\n",
      "    \n",
      "    if(fit):\n",
      "        x_min = min(df_py[x])\n",
      "        x_max = max(df_py[x])\n",
      "        y_min = coeff[\"Intercept\"] + coeff[x]*x_min\n",
      "        y_max = coeff[\"Intercept\"] + coeff[x]*x_max\n",
      "        plt.plot([x_min, x_max], [y_min, y_max], \"k-\")\n",
      "    if interactive: plt.show()\n",
      "\n",
      "scatter_plot(data, \"Distance\", \"AirTime\", fit = True)\n",
      "scatter_plot(data, \"UniqueCarrier\", \"ArrDelay\", max_points = 5000, fit = False)"
     ],
     "language": "python",
     "metadata": {},
     "outputs": [
      {
       "output_type": "stream",
       "stream": "stdout",
       "text": [
        "\n",
        "\r",
        "glm Model Build Progress: [                                                  ] 00%"
       ]
      },
      {
       "output_type": "stream",
       "stream": "stdout",
       "text": [
        "\r",
        "glm Model Build Progress: [##################################################] 100%"
       ]
      },
      {
       "output_type": "stream",
       "stream": "stdout",
       "text": [
        "\n"
       ]
      }
     ],
     "prompt_number": 37
    },
    {
     "cell_type": "code",
     "collapsed": false,
     "input": [
      "# Group flights by month\n",
      "aggregates = {\"Month\": [\"nrow\", 0, \"all\"], \"Cancelled\": [\"sum\", 1, \"all\"]}\n",
      "bpd = data.group_by(cols=[\"Month\"], aggregates=aggregates)\n",
      "bpd.show()\n",
      "bpd.describe()\n",
      "bpd.dim()\n",
      "\n",
      "# Convert columns to factors\n",
      "data[\"Year\"]      = data[\"Year\"]     .asfactor()\n",
      "data[\"Month\"]     = data[\"Month\"]    .asfactor()\n",
      "data[\"DayOfWeek\"] = data[\"DayOfWeek\"].asfactor()\n",
      "data[\"Cancelled\"] = data[\"Cancelled\"].asfactor()"
     ],
     "language": "python",
     "metadata": {},
     "outputs": [
      {
       "output_type": "stream",
       "stream": "stdout",
       "text": [
        "First 2 rows and first 3 columns: \n"
       ]
      },
      {
       "html": [
        "<div style=\"overflow:auto\"><table style=\"width:50%\"><tr><td>Month</td>\n",
        "<td>Cancelled</td>\n",
        "<td>Month</td></tr>\n",
        "<tr><td>10</td>\n",
        "<td>19990</td>\n",
        "<td>1999</td></tr>\n",
        "<tr><td>1</td>\n",
        "<td>41979</td>\n",
        "<td>41979</td></tr></table></div>"
       ],
       "metadata": {},
       "output_type": "display_data",
       "text": [
        "  Month    Cancelled    Month\n",
        "-------  -----------  -------\n",
        "     10        19990     1999\n",
        "      1        41979    41979"
       ]
      },
      {
       "output_type": "stream",
       "stream": "stdout",
       "text": [
        "Rows: 2 Cols: 3\n",
        "\n",
        "Chunk compression summary:\n",
        "\n"
       ]
      },
      {
       "html": [
        "<div style=\"overflow:auto\"><table style=\"width:50%\"><tr><td>chunk_type</td>\n",
        "<td>chunk_name</td>\n",
        "<td>count</td>\n",
        "<td>count_percentage</td>\n",
        "<td>size</td>\n",
        "<td>size_percentage</td></tr>\n",
        "<tr><td>C1N</td>\n",
        "<td>1-Byte Integers (w/o NAs)</td>\n",
        "<td>1</td>\n",
        "<td>33.333336</td>\n",
        "<td>     70  B</td>\n",
        "<td>28.455284</td></tr>\n",
        "<tr><td>C2S</td>\n",
        "<td>2-Byte Fractions</td>\n",
        "<td>2</td>\n",
        "<td>66.66667</td>\n",
        "<td>    176  B</td>\n",
        "<td>71.544716</td></tr></table></div>"
       ],
       "metadata": {},
       "output_type": "display_data",
       "text": [
        "chunk_type    chunk_name                 count    count_percentage    size    size_percentage\n",
        "------------  -------------------------  -------  ------------------  ------  -----------------\n",
        "C1N           1-Byte Integers (w/o NAs)  1        33.3333             70  B   28.4553\n",
        "C2S           2-Byte Fractions           2        66.6667             176  B  71.5447"
       ]
      },
      {
       "output_type": "stream",
       "stream": "stdout",
       "text": [
        "\n",
        "Frame distribution summary:\n",
        "\n"
       ]
      },
      {
       "html": [
        "<div style=\"overflow:auto\"><table style=\"width:50%\"><tr><td></td>\n",
        "<td>size</td>\n",
        "<td>number_of_rows</td>\n",
        "<td>number_of_chunks_per_column</td>\n",
        "<td>number_of_chunks</td></tr>\n",
        "<tr><td>172.16.2.18:54321</td>\n",
        "<td>    246  B</td>\n",
        "<td>2.0</td>\n",
        "<td>1.0</td>\n",
        "<td>3.0</td></tr>\n",
        "<tr><td>mean</td>\n",
        "<td>    246  B</td>\n",
        "<td>2.0</td>\n",
        "<td>1.0</td>\n",
        "<td>3.0</td></tr>\n",
        "<tr><td>min</td>\n",
        "<td>    246  B</td>\n",
        "<td>2.0</td>\n",
        "<td>1.0</td>\n",
        "<td>3.0</td></tr>\n",
        "<tr><td>max</td>\n",
        "<td>    246  B</td>\n",
        "<td>2.0</td>\n",
        "<td>1.0</td>\n",
        "<td>3.0</td></tr>\n",
        "<tr><td>stddev</td>\n",
        "<td>      0  B</td>\n",
        "<td>0.0</td>\n",
        "<td>0.0</td>\n",
        "<td>0.0</td></tr>\n",
        "<tr><td>total</td>\n",
        "<td>    246  B</td>\n",
        "<td>2.0</td>\n",
        "<td>1.0</td>\n",
        "<td>3.0</td></tr></table></div>"
       ],
       "metadata": {},
       "output_type": "display_data",
       "text": [
        "                   size    number_of_rows    number_of_chunks_per_column    number_of_chunks\n",
        "-----------------  ------  ----------------  -----------------------------  ------------------\n",
        "172.16.2.18:54321  246  B  2                 1                              3\n",
        "mean               246  B  2                 1                              3\n",
        "min                246  B  2                 1                              3\n",
        "max                246  B  2                 1                              3\n",
        "stddev             0  B    0                 0                              0\n",
        "total              246  B  2                 1                              3"
       ]
      },
      {
       "output_type": "stream",
       "stream": "stdout",
       "text": [
        "\n",
        "Column-by-Column Summary:\n",
        "\n"
       ]
      },
      {
       "html": [
        "<div style=\"overflow:auto\"><table style=\"width:50%\"><tr><td></td>\n",
        "<td>Month</td>\n",
        "<td>Cancelled</td>\n",
        "<td>Month</td></tr>\n",
        "<tr><td>type</td>\n",
        "<td>int</td>\n",
        "<td>int</td>\n",
        "<td>int</td></tr>\n",
        "<tr><td>mins</td>\n",
        "<td>1.0</td>\n",
        "<td>19990.0</td>\n",
        "<td>1999.0</td></tr>\n",
        "<tr><td>maxs</td>\n",
        "<td>10.0</td>\n",
        "<td>41979.0</td>\n",
        "<td>41979.0</td></tr>\n",
        "<tr><td>sigma</td>\n",
        "<td>6.36396103068</td>\n",
        "<td>15548.5710115</td>\n",
        "<td>28270.1291118</td></tr>\n",
        "<tr><td>zero_count</td>\n",
        "<td>0</td>\n",
        "<td>0</td>\n",
        "<td>0</td></tr>\n",
        "<tr><td>missing_count</td>\n",
        "<td>0</td>\n",
        "<td>0</td>\n",
        "<td>0</td></tr></table></div>"
       ],
       "metadata": {},
       "output_type": "display_data",
       "text": [
        "               Month          Cancelled      Month\n",
        "-------------  -------------  -------------  -------------\n",
        "type           int            int            int\n",
        "mins           1.0            19990.0        1999.0\n",
        "maxs           10.0           41979.0        41979.0\n",
        "sigma          6.36396103068  15548.5710115  28270.1291118\n",
        "zero_count     0              0              0\n",
        "missing_count  0              0              0"
       ]
      }
     ],
     "prompt_number": 38
    },
    {
     "cell_type": "code",
     "collapsed": false,
     "input": [
      "# Calculate and plot travel time\n",
      "hour1 = data[\"CRSArrTime\"] / 100\n",
      "mins1 = data[\"CRSArrTime\"] % 100\n",
      "arrTime = hour1*60 + mins1\n",
      "\n",
      "hour2 = data[\"CRSDepTime\"] / 100\n",
      "mins2 = data[\"CRSDepTime\"] % 100\n",
      "depTime = hour2*60 + mins2\n",
      "\n",
      "# TODO: Replace this once list comprehension is supported. See PUBDEV-1286.\n",
      "# data[\"TravelTime\"] = [x if x > 0 else None for x in (arrTime - depTime)]\n",
      "data[\"TravelTime\"] = h2o.ifelse((arrTime-depTime) > 0, (arrTime-depTime), h2o.H2OFrame(python_obj=[[None] for r in range(data.nrow())]))[0]\n",
      "scatter_plot(data, \"Distance\", \"TravelTime\")"
     ],
     "language": "python",
     "metadata": {},
     "outputs": [
      {
       "output_type": "stream",
       "stream": "stdout",
       "text": [
        "\n",
        "\r",
        "Parse Progress: [                                                  ] 00%"
       ]
      },
      {
       "output_type": "stream",
       "stream": "stdout",
       "text": [
        "\r",
        "Parse Progress: [##################################################] 100%"
       ]
      },
      {
       "output_type": "stream",
       "stream": "stdout",
       "text": [
        "\n",
        "Uploaded pycc7b458c-2e0c-482b-8a9e-23ff529f568c into cluster with 43,978 rows and 1 cols\n",
        "\n"
       ]
      },
      {
       "output_type": "stream",
       "stream": "stdout",
       "text": [
        "\r",
        "glm Model Build Progress: [                                                  ] 00%"
       ]
      },
      {
       "output_type": "stream",
       "stream": "stdout",
       "text": [
        "\r",
        "glm Model Build Progress: [##################################################] 100%"
       ]
      },
      {
       "output_type": "stream",
       "stream": "stdout",
       "text": [
        "\n"
       ]
      }
     ],
     "prompt_number": 39
    },
    {
     "cell_type": "code",
     "collapsed": false,
     "input": [
      "# Impute missing travel times and re-plot\n",
      "data.impute(column = \"Distance\", by = [\"Origin\", \"Dest\"])\n",
      "scatter_plot(data, \"Distance\", \"TravelTime\")"
     ],
     "language": "python",
     "metadata": {},
     "outputs": [
      {
       "output_type": "stream",
       "stream": "stdout",
       "text": [
        "\n",
        "\r",
        "glm Model Build Progress: [                                                  ] 00%"
       ]
      },
      {
       "output_type": "stream",
       "stream": "stdout",
       "text": [
        "\r",
        "glm Model Build Progress: [##################################################] 100%"
       ]
      },
      {
       "output_type": "stream",
       "stream": "stdout",
       "text": [
        "\n"
       ]
      }
     ],
     "prompt_number": 40
    },
    {
     "cell_type": "code",
     "collapsed": false,
     "input": [
      "# ----------\n",
      "# 3- Fit a model on train; using test as validation\n",
      "\n",
      "# Create test/train split\n",
      "s = data[\"Year\"].runif()\n",
      "train = data[s <= 0.75]\n",
      "test  = data[s > 0.75]\n",
      "\n",
      "# Set predictor and response variables\n",
      "myY = \"IsDepDelayed\"\n",
      "myX = [\"Origin\", \"Dest\", \"Year\", \"UniqueCarrier\", \"DayOfWeek\", \"Month\", \"Distance\", \"FlightNum\"]\n",
      "\n",
      "# Simple GLM - Predict Delays\n",
      "data_glm = h2o.glm(x           =train[myX],\n",
      "                   y           =train[myY],\n",
      "                   validation_x=test [myX],\n",
      "                   validation_y=test [myY],\n",
      "                   family      =\"binomial\",\n",
      "                   standardize =True)\n",
      "\n",
      "# Simple GBM\n",
      "data_gbm = h2o.gbm(x              =train[myX],\n",
      "                   y              =train[myY],\n",
      "                   validation_x   =test [myX],\n",
      "                   validation_y   =test [myY],\n",
      "                   balance_classes=True,\n",
      "                   ntrees         =3,\n",
      "                   max_depth      =1,\n",
      "                   distribution   =\"bernoulli\",\n",
      "                   learn_rate     =0.1,\n",
      "                   min_rows       =2)\n",
      "\n",
      "# Complex GBM\n",
      "data_gbm2 = h2o.gbm(x              =train[myX],\n",
      "                    y              =train[myY],\n",
      "                    validation_x   =test [myX],\n",
      "                    validation_y   =test [myY],\n",
      "                    balance_classes=True,\n",
      "                    ntrees         =50,\n",
      "                    max_depth      =5,\n",
      "                    distribution   =\"bernoulli\",\n",
      "                    learn_rate     =0.1,\n",
      "                    min_rows       =2)\n",
      "\n",
      "# Simple Random Forest\n",
      "data_rf = h2o.random_forest(x              =train[myX],\n",
      "                            y              =train[myY],\n",
      "                            validation_x   =test [myX],\n",
      "                            validation_y   =test [myY],\n",
      "                            ntrees         =5,\n",
      "                            max_depth      =2,\n",
      "                            balance_classes=True)\n",
      "\n",
      "# Complex Random Forest\n",
      "data_rf2 = h2o.random_forest(x              =train[myX], \n",
      "                             y              =train[myY],\n",
      "                             validation_x   =test [myX],\n",
      "                             validation_y   =test [myY],\n",
      "                             ntrees         =10,\n",
      "                             max_depth      =5,\n",
      "                             balance_classes=True)\n",
      "\n",
      "# Deep Learning with 5 epochs\n",
      "data_dl = h2o.deeplearning(x                   =train[myX],\n",
      "                           y                   =train[myY],\n",
      "                           validation_x        =test [myX],\n",
      "                           validation_y        =test [myY],\n",
      "                           hidden              =[10,10],\n",
      "                           epochs              =5,\n",
      "                           variable_importances=True,\n",
      "                           balance_classes     =True,\n",
      "                           loss                =\"Automatic\")"
     ],
     "language": "python",
     "metadata": {},
     "outputs": [
      {
       "output_type": "stream",
       "stream": "stdout",
       "text": [
        "\n",
        "\r",
        "glm Model Build Progress: [                                                  ] 00%"
       ]
      },
      {
       "output_type": "stream",
       "stream": "stdout",
       "text": [
        "\r",
        "glm Model Build Progress: [####                                              ] 08%"
       ]
      },
      {
       "output_type": "stream",
       "stream": "stdout",
       "text": [
        "\r",
        "glm Model Build Progress: [##################################################] 100%"
       ]
      },
      {
       "output_type": "stream",
       "stream": "stdout",
       "text": [
        "\n",
        "\n"
       ]
      },
      {
       "output_type": "stream",
       "stream": "stdout",
       "text": [
        "\r",
        "gbm Model Build Progress: [                                                  ] 00%"
       ]
      },
      {
       "output_type": "stream",
       "stream": "stdout",
       "text": [
        "\r",
        "gbm Model Build Progress: [##################################################] 100%"
       ]
      },
      {
       "output_type": "stream",
       "stream": "stdout",
       "text": [
        "\n",
        "\n"
       ]
      },
      {
       "output_type": "stream",
       "stream": "stdout",
       "text": [
        "\r",
        "gbm Model Build Progress: [                                                  ] 00%"
       ]
      },
      {
       "output_type": "stream",
       "stream": "stdout",
       "text": [
        "\r",
        "gbm Model Build Progress: [####                                              ] 08%"
       ]
      },
      {
       "output_type": "stream",
       "stream": "stdout",
       "text": [
        "\r",
        "gbm Model Build Progress: [##########                                        ] 20%"
       ]
      },
      {
       "output_type": "stream",
       "stream": "stdout",
       "text": [
        "\r",
        "gbm Model Build Progress: [################                                  ] 32%"
       ]
      },
      {
       "output_type": "stream",
       "stream": "stdout",
       "text": [
        "\r",
        "gbm Model Build Progress: [#######################                           ] 46%"
       ]
      },
      {
       "output_type": "stream",
       "stream": "stdout",
       "text": [
        "\r",
        "gbm Model Build Progress: [##############################                    ] 60%"
       ]
      },
      {
       "output_type": "stream",
       "stream": "stdout",
       "text": [
        "\r",
        "gbm Model Build Progress: [######################################            ] 76%"
       ]
      },
      {
       "output_type": "stream",
       "stream": "stdout",
       "text": [
        "\r",
        "gbm Model Build Progress: [##############################################    ] 92%"
       ]
      },
      {
       "output_type": "stream",
       "stream": "stdout",
       "text": [
        "\r",
        "gbm Model Build Progress: [##################################################] 100%"
       ]
      },
      {
       "output_type": "stream",
       "stream": "stdout",
       "text": [
        "\n",
        "\n"
       ]
      },
      {
       "output_type": "stream",
       "stream": "stdout",
       "text": [
        "\r",
        "drf Model Build Progress: [                                                  ] 00%"
       ]
      },
      {
       "output_type": "stream",
       "stream": "stdout",
       "text": [
        "\r",
        "drf Model Build Progress: [##################################################] 100%"
       ]
      },
      {
       "output_type": "stream",
       "stream": "stdout",
       "text": [
        "\n",
        "\n"
       ]
      },
      {
       "output_type": "stream",
       "stream": "stdout",
       "text": [
        "\r",
        "drf Model Build Progress: [                                                  ] 00%"
       ]
      },
      {
       "output_type": "stream",
       "stream": "stdout",
       "text": [
        "\r",
        "drf Model Build Progress: [####################                              ] 40%"
       ]
      },
      {
       "output_type": "stream",
       "stream": "stdout",
       "text": [
        "\r",
        "drf Model Build Progress: [#############################################     ] 90%"
       ]
      },
      {
       "output_type": "stream",
       "stream": "stdout",
       "text": [
        "\r",
        "drf Model Build Progress: [##################################################] 100%"
       ]
      },
      {
       "output_type": "stream",
       "stream": "stdout",
       "text": [
        "\n",
        "\n"
       ]
      },
      {
       "output_type": "stream",
       "stream": "stdout",
       "text": [
        "\r",
        "deeplearning Model Build Progress: [                                                  ] 00%"
       ]
      },
      {
       "output_type": "stream",
       "stream": "stdout",
       "text": [
        "\r",
        "deeplearning Model Build Progress: [#####                                             ] 10%"
       ]
      },
      {
       "output_type": "stream",
       "stream": "stdout",
       "text": [
        "\r",
        "deeplearning Model Build Progress: [####################################              ] 73%"
       ]
      },
      {
       "output_type": "stream",
       "stream": "stdout",
       "text": [
        "\r",
        "deeplearning Model Build Progress: [##################################################] 100%"
       ]
      },
      {
       "output_type": "stream",
       "stream": "stdout",
       "text": [
        "\n"
       ]
      }
     ],
     "prompt_number": 41
    },
    {
     "cell_type": "code",
     "collapsed": false,
     "input": [
      "# Variable importances from each algorithm\n",
      "# Calculate magnitude of normalized GLM coefficients\n",
      "glm_varimp = data_glm.coef_norm()\n",
      "for k,v in glm_varimp.iteritems():\n",
      "    glm_varimp[k] = abs(glm_varimp[k])\n",
      "    \n",
      "# Sort in descending order by magnitude\n",
      "glm_sorted = sorted(glm_varimp.items(), key = operator.itemgetter(1), reverse = True)\n",
      "table = tabulate(glm_sorted, headers = [\"Predictor\", \"Normalized Coefficient\"], tablefmt = \"orgtbl\")\n",
      "print \"Variable Importances:\\n\\n\" + table\n",
      "\n",
      "data_gbm.varimp()\n",
      "data_rf.varimp()"
     ],
     "language": "python",
     "metadata": {
      "scrolled": true
     },
     "outputs": [
      {
       "output_type": "stream",
       "stream": "stdout",
       "text": [
        "Variable Importances:\n",
        "\n",
        "| Predictor        |   Normalized Coefficient |\n",
        "|------------------+--------------------------|\n",
        "| Year.2008        |              2.1588      |\n",
        "| Year.2003        |              1.66298     |\n",
        "| Origin.HPN       |              1.6213      |\n",
        "| Dest.HTS         |              1.56244     |\n",
        "| Dest.LYH         |              1.55538     |\n",
        "| Origin.MDW       |              1.54054     |\n",
        "| Origin.LIH       |              1.53584     |\n",
        "| Year.2007        |              1.48977     |\n",
        "| Origin.TLH       |              1.47228     |\n",
        "| Origin.LEX       |              1.31936     |\n",
        "| Origin.LBB       |              1.28253     |\n",
        "| Origin.CHO       |              1.18561     |\n",
        "| UniqueCarrier.HP |              1.15896     |\n",
        "| Origin.GRR       |              1.11864     |\n",
        "| Origin.CAE       |              1.11285     |\n",
        "| Year.2001        |              1.11271     |\n",
        "| Origin.HNL       |              1.09193     |\n",
        "| Year.2002        |              1.07131     |\n",
        "| Origin.MYR       |              1.06588     |\n",
        "| Year.2004        |              0.981557    |\n",
        "| Origin.MRY       |              0.972513    |\n",
        "| Year.2006        |              0.954268    |\n",
        "| Origin.RNO       |              0.939758    |\n",
        "| Origin.ATL       |              0.926622    |\n",
        "| Origin.BTV       |              0.915048    |\n",
        "| UniqueCarrier.TW |              0.900693    |\n",
        "| Origin.CRP       |              0.868601    |\n",
        "| Origin.ERI       |              0.857363    |\n",
        "| Origin.PBI       |              0.846031    |\n",
        "| Origin.TRI       |              0.840387    |\n",
        "| Origin.TUL       |              0.834467    |\n",
        "| Origin.OGG       |              0.824271    |\n",
        "| Origin.ACY       |              0.824168    |\n",
        "| Dest.LIH         |              0.823014    |\n",
        "| Dest.OGG         |              0.820898    |\n",
        "| Dest.DAY         |              0.817541    |\n",
        "| Origin.SDF       |              0.807297    |\n",
        "| Origin.ORD       |              0.782898    |\n",
        "| Origin.EGE       |              0.781056    |\n",
        "| Origin.MLB       |              0.777932    |\n",
        "| Origin.SRQ       |              0.757211    |\n",
        "| Origin.LYH       |              0.751264    |\n",
        "| Dest.CHO         |              0.751264    |\n",
        "| Dest.TOL         |              0.742396    |\n",
        "| Origin.JFK       |              0.730485    |\n",
        "| Year.1994        |              0.728004    |\n",
        "| Origin.ROA       |              0.727459    |\n",
        "| Origin.IAH       |              0.724052    |\n",
        "| Origin.ALB       |              0.723486    |\n",
        "| Dest.ISP         |              0.72178     |\n",
        "| Origin.CMH       |              0.720946    |\n",
        "| Origin.SAV       |              0.70093     |\n",
        "| Dest.PSP         |              0.681385    |\n",
        "| Year.2005        |              0.667429    |\n",
        "| Origin.PSP       |              0.666464    |\n",
        "| Origin.AUS       |              0.639459    |\n",
        "| Origin.JAX       |              0.629633    |\n",
        "| Year.1996        |              0.623413    |\n",
        "| Year.1997        |              0.621083    |\n",
        "| Origin.OKC       |              0.617856    |\n",
        "| Dest.PNS         |              0.615681    |\n",
        "| Origin.STL       |              0.606143    |\n",
        "| Origin.BOI       |              0.593936    |\n",
        "| Dest.FAY         |              0.59324     |\n",
        "| Origin.DSM       |              0.593098    |\n",
        "| Dest.PBI         |              0.57897     |\n",
        "| Dest.FLL         |              0.574396    |\n",
        "| Origin.PIT       |              0.56921     |\n",
        "| Origin.FLL       |              0.567144    |\n",
        "| Dest.SWF         |              0.550954    |\n",
        "| Dest.IAH         |              0.535008    |\n",
        "| Dest.TPA         |              0.534588    |\n",
        "| Origin.ICT       |              0.52281     |\n",
        "| Origin.LAX       |              0.50797     |\n",
        "| Dest.FAT         |              0.499892    |\n",
        "| Origin.PHL       |              0.497609    |\n",
        "| Origin.HRL       |              0.49621     |\n",
        "| UniqueCarrier.PI |              0.495052    |\n",
        "| Origin.MSY       |              0.491315    |\n",
        "| Year.1990        |              0.49085     |\n",
        "| Dest.CVG         |              0.489342    |\n",
        "| UniqueCarrier.WN |              0.479303    |\n",
        "| Dest.SFO         |              0.478256    |\n",
        "| Dest.CLE         |              0.461707    |\n",
        "| Dest.SAT         |              0.455402    |\n",
        "| Origin.MIA       |              0.44377     |\n",
        "| Origin.GSO       |              0.443179    |\n",
        "| Origin.SLC       |              0.440698    |\n",
        "| Dest.GSO         |              0.439871    |\n",
        "| Origin.SYR       |              0.436538    |\n",
        "| Dest.CAK         |              0.435096    |\n",
        "| Origin.DFW       |              0.434464    |\n",
        "| Dest.IND         |              0.431761    |\n",
        "| UniqueCarrier.CO |              0.427475    |\n",
        "| Origin.IND       |              0.421407    |\n",
        "| Origin.MCI       |              0.415253    |\n",
        "| Dest.STL         |              0.414162    |\n",
        "| Origin.LGA       |              0.410775    |\n",
        "| Dest.BGM         |              0.406189    |\n",
        "| Dest.EYW         |              0.404311    |\n",
        "| Origin.MCO       |              0.399972    |\n",
        "| Origin.MAF       |              0.398428    |\n",
        "| Origin.BDL       |              0.397983    |\n",
        "| Origin.PWM       |              0.39134     |\n",
        "| Dest.JAX         |              0.390669    |\n",
        "| Year.1992        |              0.383848    |\n",
        "| Dest.ELM         |              0.375993    |\n",
        "| Origin.DAY       |              0.367078    |\n",
        "| Dest.DSM         |              0.362333    |\n",
        "| Origin.STX       |              0.361376    |\n",
        "| Dest.HPN         |              0.361276    |\n",
        "| Origin.ABE       |              0.358193    |\n",
        "| Dest.TUL         |              0.356312    |\n",
        "| Origin.MKE       |              0.352945    |\n",
        "| Dest.ICT         |              0.352228    |\n",
        "| Dest.LBB         |              0.343244    |\n",
        "| UniqueCarrier.US |              0.335833    |\n",
        "| Origin.TUS       |              0.325399    |\n",
        "| Dest.ABQ         |              0.32409     |\n",
        "| Origin.BOS       |              0.321979    |\n",
        "| Dest.SEA         |              0.320388    |\n",
        "| Dest.GEG         |              0.319486    |\n",
        "| Origin.CRW       |              0.318293    |\n",
        "| Year.1991        |              0.318064    |\n",
        "| Origin.ROC       |              0.316767    |\n",
        "| Origin.CLT       |              0.315039    |\n",
        "| Dest.BUR         |              0.308646    |\n",
        "| Dest.MCO         |              0.30745     |\n",
        "| Origin.SAN       |              0.306841    |\n",
        "| Dest.SBN         |              0.306775    |\n",
        "| Origin.SJC       |              0.299187    |\n",
        "| Dest.CHS         |              0.296834    |\n",
        "| Origin.BUR       |              0.296586    |\n",
        "| Dest.MIA         |              0.292456    |\n",
        "| Origin.OMA       |              0.291034    |\n",
        "| Origin.OAK       |              0.290472    |\n",
        "| Origin.BUF       |              0.29001     |\n",
        "| Origin.EYW       |              0.28725     |\n",
        "| Dest.IAD         |              0.286994    |\n",
        "| Year.1995        |              0.280663    |\n",
        "| Origin.LIT       |              0.280395    |\n",
        "| Dest.CRP         |              0.280187    |\n",
        "| Dest.GRR         |              0.275223    |\n",
        "| Year.1989        |              0.273826    |\n",
        "| Dest.BDL         |              0.268411    |\n",
        "| Dest.BTV         |              0.266919    |\n",
        "| Dest.AVL         |              0.266121    |\n",
        "| Origin.BWI       |              0.265217    |\n",
        "| Origin.PHF       |              0.264861    |\n",
        "| Origin.JAN       |              0.264772    |\n",
        "| Year.1987        |              0.26463     |\n",
        "| Month.10         |              0.26463     |\n",
        "| Dest.BUF         |              0.253349    |\n",
        "| Year.1999        |              0.24815     |\n",
        "| Origin.COS       |              0.243657    |\n",
        "| Dest.KOA         |              0.243254    |\n",
        "| Dest.SLC         |              0.231037    |\n",
        "| Dest.LAX         |              0.230082    |\n",
        "| DayOfWeek.5      |              0.229059    |\n",
        "| Origin.DEN       |              0.223904    |\n",
        "| Origin.CLE       |              0.223793    |\n",
        "| Dest.PWM         |              0.220691    |\n",
        "| Origin.SMF       |              0.219536    |\n",
        "| Dest.MKE         |              0.21666     |\n",
        "| Year.2000        |              0.212103    |\n",
        "| Dest.CMH         |              0.211391    |\n",
        "| Dest.ELP         |              0.205403    |\n",
        "| Dest.SNA         |              0.197145    |\n",
        "| Dest.CLT         |              0.197036    |\n",
        "| Origin.LAN       |              0.195764    |\n",
        "| Dest.ORF         |              0.192393    |\n",
        "| Origin.ORF       |              0.189807    |\n",
        "| Dest.SDF         |              0.189612    |\n",
        "| Dest.LAS         |              0.186792    |\n",
        "| DayOfWeek.2      |              0.185824    |\n",
        "| Origin.GNV       |              0.179483    |\n",
        "| Dest.PHL         |              0.179473    |\n",
        "| UniqueCarrier.UA |              0.174122    |\n",
        "| Dest.BOI         |              0.173176    |\n",
        "| Dest.SMF         |              0.171225    |\n",
        "| Origin.RIC       |              0.16792     |\n",
        "| Dest.CAE         |              0.165821    |\n",
        "| Dest.OAK         |              0.161469    |\n",
        "| DayOfWeek.6      |              0.1597      |\n",
        "| Dest.ALB         |              0.15857     |\n",
        "| Origin.TYS       |              0.157326    |\n",
        "| Distance         |              0.156995    |\n",
        "| Origin.MFR       |              0.155835    |\n",
        "| Dest.SAN         |              0.155511    |\n",
        "| Dest.PDX         |              0.15326     |\n",
        "| UniqueCarrier.AA |              0.15251     |\n",
        "| DayOfWeek.4      |              0.151251    |\n",
        "| Dest.OAJ         |              0.149246    |\n",
        "| Origin.SFO       |              0.148324    |\n",
        "| Dest.ORH         |              0.147592    |\n",
        "| Origin.MEM       |              0.141762    |\n",
        "| Origin.KOA       |              0.140646    |\n",
        "| Origin.TPA       |              0.138538    |\n",
        "| Origin.BHM       |              0.133022    |\n",
        "| Dest.MSY         |              0.132081    |\n",
        "| Origin.PHX       |              0.131842    |\n",
        "| Month.1          |              0.12781     |\n",
        "| Origin.DCA       |              0.126726    |\n",
        "| Origin.IAD       |              0.125839    |\n",
        "| Origin.RDU       |              0.122415    |\n",
        "| Dest.RNO         |              0.118628    |\n",
        "| Dest.DAL         |              0.116398    |\n",
        "| Origin.BNA       |              0.114459    |\n",
        "| Origin.PDX       |              0.111248    |\n",
        "| Origin.AMA       |              0.111117    |\n",
        "| Dest.AVP         |              0.108346    |\n",
        "| Dest.UCA         |              0.105987    |\n",
        "| Origin.PVD       |              0.10396     |\n",
        "| Dest.RSW         |              0.103611    |\n",
        "| Dest.JFK         |              0.0986377   |\n",
        "| Origin.SEA       |              0.0970865   |\n",
        "| Dest.ONT         |              0.0965799   |\n",
        "| Dest.MSP         |              0.0940831   |\n",
        "| Origin.AVP       |              0.0908116   |\n",
        "| Dest.PVD         |              0.0884787   |\n",
        "| Origin.LAS       |              0.0879859   |\n",
        "| Dest.MDW         |              0.0862646   |\n",
        "| Year.1993        |              0.0826524   |\n",
        "| Dest.ORD         |              0.0820849   |\n",
        "| Dest.STT         |              0.0803215   |\n",
        "| Dest.TUS         |              0.0799781   |\n",
        "| Origin.MSP       |              0.0788234   |\n",
        "| Dest.ROA         |              0.0774875   |\n",
        "| Dest.MDT         |              0.0774053   |\n",
        "| Dest.ROC         |              0.0728663   |\n",
        "| Dest.BHM         |              0.0722341   |\n",
        "| Origin.ELP       |              0.0713482   |\n",
        "| Dest.RDU         |              0.0711659   |\n",
        "| Dest.DEN         |              0.071073    |\n",
        "| Dest.OMA         |              0.0707127   |\n",
        "| Origin.RSW       |              0.0632702   |\n",
        "| Dest.SYR         |              0.0611749   |\n",
        "| Dest.EUG         |              0.0609622   |\n",
        "| Dest.BNA         |              0.0608039   |\n",
        "| Dest.DFW         |              0.0535327   |\n",
        "| Origin.SBN       |              0.0497309   |\n",
        "| Origin.MHT       |              0.0492116   |\n",
        "| Dest.BWI         |              0.0489014   |\n",
        "| Dest.HRL         |              0.0427867   |\n",
        "| Origin.ISP       |              0.0400625   |\n",
        "| Dest.SJC         |              0.039699    |\n",
        "| Origin.BIL       |              0.038162    |\n",
        "| Origin.CVG       |              0.037897    |\n",
        "| Origin.SJU       |              0.0364338   |\n",
        "| Origin.DTW       |              0.0333669   |\n",
        "| Origin.GEG       |              0.0291341   |\n",
        "| Dest.BOS         |              0.0283289   |\n",
        "| DayOfWeek.7      |              0.0282549   |\n",
        "| Dest.EWR         |              0.0272242   |\n",
        "| Dest.PHX         |              0.0262367   |\n",
        "| Dest.GSP         |              0.0246288   |\n",
        "| Intercept        |              0.0217355   |\n",
        "| Dest.DTW         |              0.0209804   |\n",
        "| Year.1988        |              0.0205011   |\n",
        "| Year.1998        |              0.0187047   |\n",
        "| Origin.HOU       |              0.0181183   |\n",
        "| Origin.DAL       |              0.0177627   |\n",
        "| Dest.MHT         |              0.0124869   |\n",
        "| Dest.PIT         |              0.0122042   |\n",
        "| DayOfWeek.1      |              0.0115657   |\n",
        "| Dest.RIC         |              0.0114787   |\n",
        "| Dest.ATL         |              0.0104528   |\n",
        "| FlightNum        |              0.0101855   |\n",
        "| Origin.ABQ       |              0.00897913  |\n",
        "| Dest.MCI         |              0.00556503  |\n",
        "| Dest.DCA         |              0.00504878  |\n",
        "| Dest.HNL         |              0.00268048  |\n",
        "| Dest.ACY         |              0.000534186 |\n",
        "| Dest.LIT         |              0           |\n",
        "| Dest.OKC         |              0           |\n",
        "| Origin.BGM       |              0           |\n",
        "| Origin.ANC       |              0           |\n",
        "| Dest.SRQ         |              0           |\n",
        "| Dest.MRY         |              0           |\n",
        "| Dest.SJU         |              0           |\n",
        "| UniqueCarrier.DL |              0           |\n",
        "| Origin.SNA       |              0           |\n",
        "| Origin.SAT       |              0           |\n",
        "| Origin.SCK       |              0           |\n",
        "| Dest.AUS         |              0           |\n",
        "| Dest.ABE         |              0           |\n",
        "| Origin.UCA       |              0           |\n",
        "| Dest.ERI         |              0           |\n",
        "| Dest.FNT         |              0           |\n",
        "| Origin.MDT       |              0           |\n",
        "| Dest.LGA         |              0           |\n",
        "| Origin.CHS       |              0           |\n",
        "| Origin.ONT       |              0           |\n",
        "| Dest.JAN         |              0           |\n",
        "| Origin.STT       |              0           |\n",
        "| DayOfWeek.3      |              0           |\n",
        "| Dest.CHA         |              0           |\n",
        "| Dest.AMA         |              0           |\n",
        "| Dest.HOU         |              0           |\n",
        "| Dest.LEX         |              0           |\n",
        "| UniqueCarrier.PS |              0           |\n",
        "| Dest.ILM         |              0           |\n",
        "| Dest.MAF         |              0           |\n",
        "| Dest.PHF         |              0           |\n",
        "| Dest.ANC         |              0           |\n",
        "| Origin.EWR       |              0           |\n",
        "| Origin.SWF       |              0           |\n",
        "| Dest.MYR         |              0           |\n",
        "| Dest.SCK         |              0           |\n",
        "| Dest.COS         |              0           |\n",
        "\n",
        "Variable Importances:\n",
        "\n"
       ]
      },
      {
       "html": [
        "<div style=\"overflow:auto\"><table style=\"width:50%\"><tr><td>variable</td>\n",
        "<td>relative_importance</td>\n",
        "<td>scaled_importance</td>\n",
        "<td>percentage</td></tr>\n",
        "<tr><td>Year</td>\n",
        "<td>1271.5637207</td>\n",
        "<td>1.0</td>\n",
        "<td>1.0</td></tr>\n",
        "<tr><td>Month</td>\n",
        "<td>0.0</td>\n",
        "<td>0.0</td>\n",
        "<td>0.0</td></tr>\n",
        "<tr><td>DayOfWeek</td>\n",
        "<td>0.0</td>\n",
        "<td>0.0</td>\n",
        "<td>0.0</td></tr>\n",
        "<tr><td>UniqueCarrier</td>\n",
        "<td>0.0</td>\n",
        "<td>0.0</td>\n",
        "<td>0.0</td></tr>\n",
        "<tr><td>FlightNum</td>\n",
        "<td>0.0</td>\n",
        "<td>0.0</td>\n",
        "<td>0.0</td></tr>\n",
        "<tr><td>Origin</td>\n",
        "<td>0.0</td>\n",
        "<td>0.0</td>\n",
        "<td>0.0</td></tr>\n",
        "<tr><td>Dest</td>\n",
        "<td>0.0</td>\n",
        "<td>0.0</td>\n",
        "<td>0.0</td></tr>\n",
        "<tr><td>Distance</td>\n",
        "<td>0.0</td>\n",
        "<td>0.0</td>\n",
        "<td>0.0</td></tr></table></div>"
       ],
       "metadata": {},
       "output_type": "display_data",
       "text": [
        "variable       relative_importance    scaled_importance    percentage\n",
        "-------------  ---------------------  -------------------  ------------\n",
        "Year           1271.56                1                    1\n",
        "Month          0                      0                    0\n",
        "DayOfWeek      0                      0                    0\n",
        "UniqueCarrier  0                      0                    0\n",
        "FlightNum      0                      0                    0\n",
        "Origin         0                      0                    0\n",
        "Dest           0                      0                    0\n",
        "Distance       0                      0                    0"
       ]
      },
      {
       "output_type": "stream",
       "stream": "stdout",
       "text": [
        "\n",
        "Variable Importances:\n",
        "\n"
       ]
      },
      {
       "html": [
        "<div style=\"overflow:auto\"><table style=\"width:50%\"><tr><td>variable</td>\n",
        "<td>relative_importance</td>\n",
        "<td>scaled_importance</td>\n",
        "<td>percentage</td></tr>\n",
        "<tr><td>Year</td>\n",
        "<td>1090.4855957</td>\n",
        "<td>1.0</td>\n",
        "<td>0.433102108156</td></tr>\n",
        "<tr><td>Origin</td>\n",
        "<td>1040.26281738</td>\n",
        "<td>0.953944574309</td>\n",
        "<td>0.413155406197</td></tr>\n",
        "<tr><td>Dest</td>\n",
        "<td>297.099853516</td>\n",
        "<td>0.272447297503</td>\n",
        "<td>0.11799749891</td></tr>\n",
        "<tr><td>UniqueCarrier</td>\n",
        "<td>73.454574585</td>\n",
        "<td>0.067359509263</td>\n",
        "<td>0.0291735454662</td></tr>\n",
        "<tr><td>Distance</td>\n",
        "<td>9.10835075378</td>\n",
        "<td>0.00835256402255</td>\n",
        "<td>0.00361751308668</td></tr>\n",
        "<tr><td>DayOfWeek</td>\n",
        "<td>7.43754434586</td>\n",
        "<td>0.00682039668856</td>\n",
        "<td>0.00295392818427</td></tr>\n",
        "<tr><td>Month</td>\n",
        "<td>0.0</td>\n",
        "<td>0.0</td>\n",
        "<td>0.0</td></tr>\n",
        "<tr><td>FlightNum</td>\n",
        "<td>0.0</td>\n",
        "<td>0.0</td>\n",
        "<td>0.0</td></tr></table></div>"
       ],
       "metadata": {},
       "output_type": "display_data",
       "text": [
        "variable       relative_importance    scaled_importance    percentage\n",
        "-------------  ---------------------  -------------------  ------------\n",
        "Year           1090.49                1                    0.433102\n",
        "Origin         1040.26                0.953945             0.413155\n",
        "Dest           297.1                  0.272447             0.117997\n",
        "UniqueCarrier  73.4546                0.0673595            0.0291735\n",
        "Distance       9.10835                0.00835256           0.00361751\n",
        "DayOfWeek      7.43754                0.0068204            0.00295393\n",
        "Month          0                      0                    0\n",
        "FlightNum      0                      0                    0"
       ]
      }
     ],
     "prompt_number": 42
    },
    {
     "cell_type": "code",
     "collapsed": false,
     "input": [
      "# Model performance of GBM model on test data\n",
      "data_gbm2.model_performance(test)"
     ],
     "language": "python",
     "metadata": {
      "scrolled": false
     },
     "outputs": [
      {
       "output_type": "stream",
       "stream": "stdout",
       "text": [
        "\n",
        "ModelMetricsBinomial: gbm\n",
        "** Reported on test data. **\n",
        "\n",
        "MSE: 0.2067569512\n",
        "R^2: 0.169924341905\n",
        "LogLoss: 0.600099505979\n",
        "AUC: 0.738105180543\n",
        "Gini: 0.476210361086\n",
        "\n",
        "Confusion Matrix (Act/Pred) for max f1 @ threshold = 0.359125942813:\n",
        "\n"
       ]
      },
      {
       "html": [
        "<div style=\"overflow:auto\"><table style=\"width:50%\"><tr><td></td>\n",
        "<td>NO</td>\n",
        "<td>YES</td>\n",
        "<td>Error</td>\n",
        "<td>Rate</td></tr>\n",
        "<tr><td>NO</td>\n",
        "<td>2002.0</td>\n",
        "<td>3238.0</td>\n",
        "<td>0.6179</td>\n",
        "<td> (3238.0/5240.0)</td></tr>\n",
        "<tr><td>YES</td>\n",
        "<td>701.0</td>\n",
        "<td>5215.0</td>\n",
        "<td>0.1185</td>\n",
        "<td> (701.0/5916.0)</td></tr>\n",
        "<tr><td>Total</td>\n",
        "<td>2703.0</td>\n",
        "<td>8453.0</td>\n",
        "<td>0.3531</td>\n",
        "<td> (3939.0/11156.0)</td></tr></table></div>"
       ],
       "metadata": {},
       "output_type": "display_data",
       "text": [
        "       NO    YES    Error    Rate\n",
        "-----  ----  -----  -------  ----------------\n",
        "NO     2002  3238   0.6179   (3238.0/5240.0)\n",
        "YES    701   5215   0.1185   (701.0/5916.0)\n",
        "Total  2703  8453   0.3531   (3939.0/11156.0)"
       ]
      },
      {
       "output_type": "stream",
       "stream": "stdout",
       "text": [
        "\n",
        "Maximum Metrics:\n",
        "\n"
       ]
      },
      {
       "html": [
        "<div style=\"overflow:auto\"><table style=\"width:50%\"><tr><td>metric</td>\n",
        "<td>threshold</td>\n",
        "<td>value</td>\n",
        "<td>idx</td></tr>\n",
        "<tr><td>max f1</td>\n",
        "<td>0.359125942813</td>\n",
        "<td>0.725868188461</td>\n",
        "<td>288.0</td></tr>\n",
        "<tr><td>max f2</td>\n",
        "<td>0.18295240364</td>\n",
        "<td>0.851550511046</td>\n",
        "<td>370.0</td></tr>\n",
        "<tr><td>max f0point5</td>\n",
        "<td>0.52425668717</td>\n",
        "<td>0.699436599629</td>\n",
        "<td>199.0</td></tr>\n",
        "<tr><td>max accuracy</td>\n",
        "<td>0.49098079263</td>\n",
        "<td>0.679992828971</td>\n",
        "<td>216.0</td></tr>\n",
        "<tr><td>max precision</td>\n",
        "<td>0.965813788774</td>\n",
        "<td>1.0</td>\n",
        "<td>0.0</td></tr>\n",
        "<tr><td>max absolute_MCC</td>\n",
        "<td>0.49098079263</td>\n",
        "<td>0.35667354946</td>\n",
        "<td>216.0</td></tr>\n",
        "<tr><td>max min_per_class_accuracy</td>\n",
        "<td>0.511462882529</td>\n",
        "<td>0.675381679389</td>\n",
        "<td>206.0</td></tr></table></div>"
       ],
       "metadata": {},
       "output_type": "display_data",
       "text": [
        "metric                      threshold    value     idx\n",
        "--------------------------  -----------  --------  -----\n",
        "max f1                      0.359126     0.725868  288\n",
        "max f2                      0.182952     0.851551  370\n",
        "max f0point5                0.524257     0.699437  199\n",
        "max accuracy                0.490981     0.679993  216\n",
        "max precision               0.965814     1         0\n",
        "max absolute_MCC            0.490981     0.356674  216\n",
        "max min_per_class_accuracy  0.511463     0.675382  206"
       ]
      },
      {
       "metadata": {},
       "output_type": "pyout",
       "prompt_number": 43,
       "text": []
      }
     ],
     "prompt_number": 43
    }
   ],
   "metadata": {}
  }
 ]
}